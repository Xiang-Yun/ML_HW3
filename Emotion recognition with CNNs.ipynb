{
 "cells": [
  {
   "cell_type": "markdown",
   "metadata": {},
   "source": [
    "### 解壓縮檔案"
   ]
  },
  {
   "cell_type": "code",
   "execution_count": 1,
   "metadata": {},
   "outputs": [
    {
     "name": "stderr",
     "output_type": "stream",
     "text": [
      "C:\\Anaconda3\\lib\\site-packages\\h5py\\__init__.py:36: FutureWarning: Conversion of the second argument of issubdtype from `float` to `np.floating` is deprecated. In future, it will be treated as `np.float64 == np.dtype(float).type`.\n",
      "  from ._conv import register_converters as _register_converters\n"
     ]
    }
   ],
   "source": [
    "import os\n",
    "import cv2\n",
    "import zipfile\n",
    "import pandas as pd\n",
    "import numpy as np\n",
    "from time import time\n",
    "import matplotlib.pyplot as plt\n",
    "%matplotlib inline\n",
    "import tensorflow as tf\n",
    "from sklearn.model_selection import ShuffleSplit\n",
    "\n",
    "zip_name = \"EmotionDetector.zip\"\n",
    "file_dir = \"EmotionDetector\"\n",
    "\n",
    "if not os.path.exists(os.getcwd()+'\\\\'+file_dir):\n",
    "    with zipfile.ZipFile(zip_name, 'r') as myzip:\n",
    "        for file in myzip.namelist():\n",
    "                myzip.extract(file, file_dir)"
   ]
  },
  {
   "cell_type": "code",
   "execution_count": 2,
   "metadata": {},
   "outputs": [
    {
     "data": {
      "text/html": [
       "<div>\n",
       "<style>\n",
       "    .dataframe thead tr:only-child th {\n",
       "        text-align: right;\n",
       "    }\n",
       "\n",
       "    .dataframe thead th {\n",
       "        text-align: left;\n",
       "    }\n",
       "\n",
       "    .dataframe tbody tr th {\n",
       "        vertical-align: top;\n",
       "    }\n",
       "</style>\n",
       "<table border=\"1\" class=\"dataframe\">\n",
       "  <thead>\n",
       "    <tr style=\"text-align: right;\">\n",
       "      <th></th>\n",
       "      <th>Emotion</th>\n",
       "      <th>Pixels</th>\n",
       "    </tr>\n",
       "  </thead>\n",
       "  <tbody>\n",
       "    <tr>\n",
       "      <th>547</th>\n",
       "      <td>6</td>\n",
       "      <td>42 64 73 83 99 89 75 83 94 92 93 106 113 123 1...</td>\n",
       "    </tr>\n",
       "    <tr>\n",
       "      <th>1148</th>\n",
       "      <td>5</td>\n",
       "      <td>21 17 8 3 2 2 9 17 23 22 23 28 29 31 41 56 72 ...</td>\n",
       "    </tr>\n",
       "    <tr>\n",
       "      <th>369</th>\n",
       "      <td>6</td>\n",
       "      <td>226 237 252 255 247 190 115 63 53 51 55 54 52 ...</td>\n",
       "    </tr>\n",
       "    <tr>\n",
       "      <th>2526</th>\n",
       "      <td>0</td>\n",
       "      <td>76 82 89 99 105 108 108 111 108 109 104 102 10...</td>\n",
       "    </tr>\n",
       "    <tr>\n",
       "      <th>2429</th>\n",
       "      <td>6</td>\n",
       "      <td>102 106 111 118 125 130 130 132 136 136 137 13...</td>\n",
       "    </tr>\n",
       "  </tbody>\n",
       "</table>\n",
       "</div>"
      ],
      "text/plain": [
       "      Emotion                                             Pixels\n",
       "547         6  42 64 73 83 99 89 75 83 94 92 93 106 113 123 1...\n",
       "1148        5  21 17 8 3 2 2 9 17 23 22 23 28 29 31 41 56 72 ...\n",
       "369         6  226 237 252 255 247 190 115 63 53 51 55 54 52 ...\n",
       "2526        0  76 82 89 99 105 108 108 111 108 109 104 102 10...\n",
       "2429        6  102 106 111 118 125 130 130 132 136 136 137 13..."
      ]
     },
     "execution_count": 2,
     "metadata": {},
     "output_type": "execute_result"
    }
   ],
   "source": [
    "train_path = os.getcwd()+'\\\\EmotionDetector\\\\train.csv'\n",
    "test_path = os.getcwd()+'\\\\EmotionDetector\\\\test.csv'\n",
    "\n",
    "\n",
    "train_set = pd.read_csv(train_path, encoding='big5')\n",
    "test_set = pd.read_csv(test_path, encoding='big5')\n",
    "train_set.sample(5) #隨機取其中5筆資料"
   ]
  },
  {
   "cell_type": "code",
   "execution_count": 3,
   "metadata": {},
   "outputs": [
    {
     "name": "stdout",
     "output_type": "stream",
     "text": [
      "(4178, 2)\n",
      "(1312, 1)\n"
     ]
    }
   ],
   "source": [
    "print(train_set.shape)\n",
    "print(test_set.shape)"
   ]
  },
  {
   "cell_type": "markdown",
   "metadata": {},
   "source": [
    "## EmotionDetectorUtils"
   ]
  },
  {
   "cell_type": "code",
   "execution_count": 4,
   "metadata": {
    "collapsed": true
   },
   "outputs": [],
   "source": [
    "__author__ = 'Charlie'\n",
    "import pandas as pd\n",
    "import numpy as np\n",
    "import os, sys, inspect\n",
    "from six.moves import cPickle as pickle\n",
    "import scipy.misc as misc\n",
    "\n",
    "IMAGE_SIZE = 48\n",
    "NUM_LABELS = 7\n",
    "VALIDATION_PERCENT = 0.1  # use 10 percent of training images for validation\n",
    "\n",
    "IMAGE_LOCATION_NORM = IMAGE_SIZE / 2\n",
    "\n",
    "np.random.seed(0)\n",
    "\n",
    "emotion = {0:'anger', 1:'disgust',\\\n",
    "           2:'fear',3:'happy',\\\n",
    "           4:'sad',5:'surprise',6:'neutral'}\n",
    "\n",
    "def read_data(data_dir, force=False):\n",
    "    def create_onehot_label(x):\n",
    "        label = np.zeros((1, NUM_LABELS), dtype=np.float32)\n",
    "        label[:, int(x)] = 1\n",
    "        return label\n",
    "\n",
    "    pickle_file = os.path.join(data_dir, \"EmotionDetectorData.pickle\")\n",
    "    if force or not os.path.exists(pickle_file):\n",
    "        train_filename = os.path.join(data_dir, \"train.csv\")\n",
    "        data_frame = pd.read_csv(train_filename)\n",
    "        data_frame['Pixels'] = data_frame['Pixels'].apply(lambda x: np.fromstring(x, sep=\" \") / 255.0) # 用空白分隔每個string\n",
    "        data_frame = data_frame.dropna()\n",
    "        print (\"Reading train.csv ...\")\n",
    "\n",
    "        train_images = np.vstack(data_frame['Pixels']).reshape(-1, IMAGE_SIZE, IMAGE_SIZE, 1)\n",
    "        print (train_images.shape)\n",
    "        train_labels = np.array([list(map(create_onehot_label, data_frame['Emotion'].values))]).reshape(-1, NUM_LABELS)\n",
    "        print (train_labels.shape)\n",
    "\n",
    "        permutations = np.random.permutation(train_images.shape[0])   # 隨機排列\n",
    "        train_images = train_images[permutations]\n",
    "        train_labels = train_labels[permutations]\n",
    "        validation_percent = int(train_images.shape[0] * VALIDATION_PERCENT)\n",
    "        validation_images = train_images[:validation_percent]         # 取後面10%\n",
    "        validation_labels = train_labels[:validation_percent]\n",
    "        train_images = train_images[validation_percent:]              # 取前面90%\n",
    "        train_labels = train_labels[validation_percent:]\n",
    "\n",
    "        print (\"Reading test.csv ...\")\n",
    "        test_filename = os.path.join(data_dir, \"test.csv\")\n",
    "        data_frame = pd.read_csv(test_filename)\n",
    "        data_frame['Pixels'] = data_frame['Pixels'].apply(lambda x: np.fromstring(x, sep=\" \") / 255.0)\n",
    "        data_frame = data_frame.dropna()\n",
    "        test_images = np.vstack(data_frame['Pixels']).reshape(-1, IMAGE_SIZE, IMAGE_SIZE, 1)\n",
    "\n",
    "        with open(pickle_file, \"wb\") as file:\n",
    "            try:\n",
    "                print ('Picking ...')\n",
    "                save = {\n",
    "                    \"train_images\": train_images,\n",
    "                    \"train_labels\": train_labels,\n",
    "                    \"validation_images\": validation_images,\n",
    "                    \"validation_labels\": validation_labels,\n",
    "                    \"test_images\": test_images,\n",
    "                }\n",
    "                pickle.dump(save, file, pickle.HIGHEST_PROTOCOL)\n",
    "\n",
    "            except:\n",
    "                print(\"Unable to pickle file :/\")\n",
    "\n",
    "    with open(pickle_file, \"rb\") as file:\n",
    "        save = pickle.load(file)\n",
    "        train_images = save[\"train_images\"]\n",
    "        train_labels = save[\"train_labels\"]\n",
    "        validation_images = save[\"validation_images\"]\n",
    "        validation_labels = save[\"validation_labels\"]\n",
    "        test_images = save[\"test_images\"]\n",
    "\n",
    "    return train_images, train_labels, validation_images, validation_labels, test_images"
   ]
  },
  {
   "cell_type": "code",
   "execution_count": 5,
   "metadata": {
    "collapsed": true,
    "scrolled": true
   },
   "outputs": [],
   "source": [
    "train_dir = os.getcwd()+'\\\\EmotionDetector'\n",
    "train_images, train_labels, validation_images, validation_labels, test_images = read_data(train_dir)"
   ]
  },
  {
   "cell_type": "code",
   "execution_count": 6,
   "metadata": {},
   "outputs": [
    {
     "name": "stdout",
     "output_type": "stream",
     "text": [
      "(3761, 48, 48, 1)\n",
      "(3761, 7)\n",
      "(417, 48, 48, 1)\n",
      "(417, 7)\n",
      "(1312, 48, 48, 1)\n"
     ]
    }
   ],
   "source": [
    "print(train_images.shape)\n",
    "print(train_labels.shape)\n",
    "print(validation_images.shape)\n",
    "print(validation_labels.shape)\n",
    "print(test_images.shape)"
   ]
  },
  {
   "cell_type": "markdown",
   "metadata": {},
   "source": [
    "### 查看train_images圖片"
   ]
  },
  {
   "cell_type": "code",
   "execution_count": 7,
   "metadata": {},
   "outputs": [
    {
     "data": {
      "image/png": "[encoded data removed]",
      "text/plain": [
       "<matplotlib.figure.Figure at 0x195f540b1d0>"
      ]
     },
     "metadata": {},
     "output_type": "display_data"
    }
   ],
   "source": [
    "fig = plt.figure(figsize=(4,4)); plt.axis('off')\n",
    "plt.imshow(train_images[0,:,:,0]); plt.show()"
   ]
  },
  {
   "cell_type": "markdown",
   "metadata": {},
   "source": [
    "# 建立CNN模型"
   ]
  },
  {
   "cell_type": "markdown",
   "metadata": {},
   "source": [
    "### Simulation Constants"
   ]
  },
  {
   "cell_type": "code",
   "execution_count": 8,
   "metadata": {
    "collapsed": true
   },
   "outputs": [],
   "source": [
    "LABELS = 7     # Number of different types of labels (0-7)\n",
    "WIDTH = 48      # width / height of the image\n",
    "CHANNELS = 1    # Number of colors in the image (greyscale)\n",
    "\n",
    "VALID = len(validation_images)   # Validation data size\n",
    "\n",
    "STEPS = 5000    # Number of steps to run\n",
    "BATCH = 100     # Stochastic Gradient Descent batch size\n",
    "PATCH = 5       # Convolutional Kernel size (濾鏡的大小)\n",
    "PATCH2 = 3\n",
    "DEPTH = 16       # Convolutional Kernel depth size == Number of Convolutional Kernels (幾層convelution後的層數)\n",
    "HIDDEN = 256    #1024 # Number of hidden neurons in the fully connected layer\n",
    "\n",
    "LR = 0.001      # Learning rate"
   ]
  },
  {
   "cell_type": "markdown",
   "metadata": {},
   "source": [
    "### CNN Model"
   ]
  },
  {
   "cell_type": "code",
   "execution_count": 9,
   "metadata": {
    "collapsed": true
   },
   "outputs": [],
   "source": [
    "tf_data = tf.placeholder(tf.float32, shape=(None, WIDTH, WIDTH, CHANNELS))\n",
    "tf_labels = tf.placeholder(tf.float32, shape=(None, LABELS))\n",
    "\n",
    "# 卷積層1參數(濾鏡大小X影像色彩X特徵個數)\n",
    "w1 = tf.Variable(tf.truncated_normal([PATCH, PATCH, CHANNELS, DEPTH], stddev=0.1))\n",
    "b1 = tf.Variable(tf.zeros([DEPTH]))\n",
    "\n",
    "# 卷積層2參數(濾鏡大小X影像色彩X特徵個數)\n",
    "w2 = tf.Variable(tf.truncated_normal([PATCH2, PATCH2, DEPTH, 2*DEPTH], stddev=0.1))\n",
    "b2 = tf.Variable(tf.constant(1.0, shape=[2*DEPTH]))\n",
    "\n",
    "# 隱藏層參數(平坦輸入個數X神經元個數)\n",
    "w3 = tf.Variable(tf.truncated_normal([WIDTH // 4 * WIDTH // 4 * 2*DEPTH, HIDDEN], stddev=0.1))\n",
    "b3 = tf.Variable(tf.constant(1.0, shape=[HIDDEN]))\n",
    "\n",
    "# 輸出層參數(神經元個數X輸出)\n",
    "w4 = tf.Variable(tf.truncated_normal([HIDDEN, LABELS], stddev=0.1))\n",
    "b4 = tf.Variable(tf.constant(1.0, shape=[LABELS]))"
   ]
  },
  {
   "cell_type": "code",
   "execution_count": 10,
   "metadata": {
    "collapsed": true
   },
   "outputs": [],
   "source": [
    "def logits(data):\n",
    "    # Convolutional layer 1\n",
    "    x = tf.nn.conv2d(data, w1, [1, 1, 1, 1], padding='SAME')\n",
    "    x = tf.nn.max_pool(x, [1, 2, 2, 1], [1, 2, 2, 1], padding='SAME')\n",
    "    x = tf.nn.relu(x + b1)\n",
    "    \n",
    "    # Convolutional layer 2\n",
    "    x = tf.nn.conv2d(x, w2, [1, 1, 1, 1], padding='SAME')\n",
    "    x = tf.nn.max_pool(x, [1, 2, 2, 1], [1, 2, 2, 1], padding='SAME')\n",
    "    x = tf.nn.relu(x + b2)\n",
    "    x = tf.nn.dropout(x, keep_prob=0.8)\n",
    "    \n",
    "    # Fully connected layer\n",
    "    x = tf.reshape(x, (-1, WIDTH // 4 * WIDTH // 4 * 2*DEPTH))\n",
    "    x = tf.nn.relu(tf.matmul(x, w3) + b3)\n",
    "    X = tf.nn.dropout(x, keep_prob=0.8)\n",
    "    \n",
    "    return tf.matmul(x, w4) + b4\n",
    "\n",
    "# Prediction:\n",
    "tf_pred = tf.nn.softmax(logits(tf_data))"
   ]
  },
  {
   "cell_type": "markdown",
   "metadata": {},
   "source": [
    "### 訓練方式"
   ]
  },
  {
   "cell_type": "code",
   "execution_count": 11,
   "metadata": {},
   "outputs": [
    {
     "name": "stdout",
     "output_type": "stream",
     "text": [
      "WARNING:tensorflow:From <ipython-input-11-c68820f1defd>:2: softmax_cross_entropy_with_logits (from tensorflow.python.ops.nn_ops) is deprecated and will be removed in a future version.\n",
      "Instructions for updating:\n",
      "\n",
      "Future major versions of TensorFlow will allow gradients to flow\n",
      "into the labels input on backprop by default.\n",
      "\n",
      "See @{tf.nn.softmax_cross_entropy_with_logits_v2}.\n",
      "\n"
     ]
    }
   ],
   "source": [
    "tf_loss = tf.reduce_mean(tf.nn.softmax_cross_entropy_with_logits(logits=logits(tf_data), \n",
    "                                                                 labels=tf_labels))\n",
    "tf_acc = 100*tf.reduce_mean(tf.to_float(tf.equal(tf.argmax(tf_pred, 1), tf.argmax(tf_labels, 1))))\n",
    "\n",
    "#tf_opt = tf.train.GradientDescentOptimizer(LR)\n",
    "tf_opt = tf.train.AdamOptimizer(LR)\n",
    "#tf_opt = tf.train.RMSPropOptimizer(LR)\n",
    "\n",
    "tf_step = tf_opt.minimize(tf_loss)"
   ]
  },
  {
   "cell_type": "markdown",
   "metadata": {},
   "source": [
    "### Train"
   ]
  },
  {
   "cell_type": "code",
   "execution_count": 12,
   "metadata": {},
   "outputs": [
    {
     "name": "stdout",
     "output_type": "stream",
     "text": [
      "Step 500 \t Valid. Acc. = 63.788967\n",
      "Step 1000 \t Valid. Acc. = 73.381294\n",
      "Step 1500 \t Valid. Acc. = 79.376503\n",
      "Step 2000 \t Valid. Acc. = 78.657074\n",
      "Step 2500 \t Valid. Acc. = 81.774582\n",
      "Step 3000 \t Valid. Acc. = 82.254196\n",
      "Step 3500 \t Valid. Acc. = 79.856117\n",
      "Step 4000 \t Valid. Acc. = 79.616310\n",
      "Step 4500 \t Valid. Acc. = 80.095924\n",
      "Step 5000 \t Valid. Acc. = 80.095924\n",
      "Model saved in path: /tmp/model.ckpt\n",
      "Train Finished takes: 1732.3864982128143\n"
     ]
    }
   ],
   "source": [
    "# Open the session\n",
    "init = tf.global_variables_initializer()\n",
    "session = tf.Session()\n",
    "saver = tf.train.Saver()\n",
    "\n",
    "session.run(init)\n",
    "\n",
    "    \n",
    "# 計算時間\n",
    "startTime = time()\n",
    "\n",
    "# Run the session\n",
    "ss = ShuffleSplit(n_splits=STEPS, train_size=BATCH)\n",
    "ss.get_n_splits(train_images, train_labels)\n",
    "history = [(0, np.nan, 10)] # Initial Error Measures\n",
    "for step, (idx, _) in enumerate(ss.split(train_images,train_labels), start=1):\n",
    "    fd = {tf_data:train_images[idx], tf_labels:train_labels[idx]}\n",
    "    session.run(tf_step, feed_dict=fd)\n",
    "    if step%500 == 0:\n",
    "        fd = {tf_data:validation_images, tf_labels:validation_labels}  \n",
    "        valid_loss, valid_accuracy = session.run([tf_loss, tf_acc], feed_dict=fd)\n",
    "        history.append((step, valid_loss, valid_accuracy))\n",
    "        print('Step %i \\t Valid. Acc. = %f'%(step, valid_accuracy), end='\\n')\n",
    "save_path = saver.save(session, \"/tmp/model.ckpt\")\n",
    "print(\"Model saved in path: %s\" % save_path)\n",
    "    \n",
    "    \n",
    "duration = time()-startTime\n",
    "print(\"Train Finished takes:\", duration)"
   ]
  },
  {
   "cell_type": "markdown",
   "metadata": {},
   "source": [
    "### Visualize the training History"
   ]
  },
  {
   "cell_type": "code",
   "execution_count": 13,
   "metadata": {
    "scrolled": true
   },
   "outputs": [
    {
     "data": {
      "image/png": "[encoded data removed]",
      "text/plain": [
       "<matplotlib.figure.Figure at 0x195f58a6470>"
      ]
     },
     "metadata": {},
     "output_type": "display_data"
    }
   ],
   "source": [
    "steps, loss, acc = zip(*history)   # 把裡面元素把包成一個個元組\n",
    "\n",
    "fig = plt.figure()\n",
    "plt.title('Validation Loss / Accuracy')\n",
    "ax_loss = fig.add_subplot(111)\n",
    "ax_acc = ax_loss.twinx()\n",
    "plt.xlabel('Training Steps')\n",
    "plt.xlim(0, max(steps))\n",
    "\n",
    "ax_loss.plot(steps, loss, '-o', color='C0')\n",
    "ax_loss.set_ylabel('Log Loss', color='C0');\n",
    "ax_loss.tick_params('y', colors='C0')\n",
    "ax_loss.set_ylim(0.01, 2)\n",
    "\n",
    "\n",
    "ax_acc.plot(steps, acc, '-o', color='C1')\n",
    "ax_acc.set_ylabel('Accuracy [%]', color='C1');\n",
    "ax_acc.tick_params('y', colors='C1')\n",
    "ax_acc.set_ylim(1,100)\n",
    "plt.show()\n"
   ]
  },
  {
   "cell_type": "markdown",
   "metadata": {},
   "source": [
    "### Results"
   ]
  },
  {
   "cell_type": "code",
   "execution_count": 14,
   "metadata": {},
   "outputs": [
    {
     "data": {
      "text/html": [
       "<div>\n",
       "<style>\n",
       "    .dataframe thead tr:only-child th {\n",
       "        text-align: right;\n",
       "    }\n",
       "\n",
       "    .dataframe thead th {\n",
       "        text-align: left;\n",
       "    }\n",
       "\n",
       "    .dataframe tbody tr th {\n",
       "        vertical-align: top;\n",
       "    }\n",
       "</style>\n",
       "<table border=\"1\" class=\"dataframe\">\n",
       "  <thead>\n",
       "    <tr style=\"text-align: right;\">\n",
       "      <th></th>\n",
       "      <th>ImageId</th>\n",
       "      <th>Label</th>\n",
       "    </tr>\n",
       "  </thead>\n",
       "  <tbody>\n",
       "    <tr>\n",
       "      <th>1307</th>\n",
       "      <td>1308</td>\n",
       "      <td>1</td>\n",
       "    </tr>\n",
       "    <tr>\n",
       "      <th>1308</th>\n",
       "      <td>1309</td>\n",
       "      <td>1</td>\n",
       "    </tr>\n",
       "    <tr>\n",
       "      <th>1309</th>\n",
       "      <td>1310</td>\n",
       "      <td>3</td>\n",
       "    </tr>\n",
       "    <tr>\n",
       "      <th>1310</th>\n",
       "      <td>1311</td>\n",
       "      <td>4</td>\n",
       "    </tr>\n",
       "    <tr>\n",
       "      <th>1311</th>\n",
       "      <td>1312</td>\n",
       "      <td>3</td>\n",
       "    </tr>\n",
       "  </tbody>\n",
       "</table>\n",
       "</div>"
      ],
      "text/plain": [
       "      ImageId  Label\n",
       "1307     1308      1\n",
       "1308     1309      1\n",
       "1309     1310      3\n",
       "1310     1311      4\n",
       "1311     1312      3"
      ]
     },
     "execution_count": 14,
     "metadata": {},
     "output_type": "execute_result"
    }
   ],
   "source": [
    "test_preds = session.run(tf_pred, feed_dict={tf_data:test_images})\n",
    "test_pred = np.argmax(test_preds, axis=1)   # 取最大值\n",
    "\n",
    "# Submission\n",
    "submission = pd.DataFrame(data={'ImageId':(np.arange(test_pred.shape[0])+1), 'Label':test_pred})\n",
    "submission.to_csv('submission.csv', index=False)\n",
    "submission.tail()"
   ]
  },
  {
   "cell_type": "markdown",
   "metadata": {},
   "source": [
    "### Plot an example"
   ]
  },
  {
   "cell_type": "code",
   "execution_count": 15,
   "metadata": {},
   "outputs": [
    {
     "name": "stdout",
     "output_type": "stream",
     "text": [
      "Label Prediction: 5\n"
     ]
    },
    {
     "data": {
      "image/png": "[encoded data removed]",
      "text/plain": [
       "<matplotlib.figure.Figure at 0x195f56d6b70>"
      ]
     },
     "metadata": {},
     "output_type": "display_data"
    }
   ],
   "source": [
    "k = 10 # Try different image indices k\n",
    "print(\"Label Prediction: %i\"%test_pred[k])\n",
    "fig = plt.figure(figsize=(4,4)); plt.axis('off')\n",
    "plt.imshow(test_images[k,:,:,0]); plt.show()"
   ]
  },
  {
   "cell_type": "markdown",
   "metadata": {},
   "source": [
    "### Photo yourself and recognize the motion"
   ]
  },
  {
   "cell_type": "code",
   "execution_count": 16,
   "metadata": {},
   "outputs": [
    {
     "data": {
      "image/png": "[encoded data removed]",
      "text/plain": [
       "<matplotlib.figure.Figure at 0x1958433afd0>"
      ]
     },
     "metadata": {},
     "output_type": "display_data"
    }
   ],
   "source": [
    "# python字典dict定義每個數字所代表的圖形類別名稱\n",
    "label_dict = {0:'angry', 1:'disgust', 2:'fear', 3:'happy', 4:'sad', 5:'surprise', 6:'neutral'}\n",
    "#my_img = np.zeros([len(label_dict), WIDTH, WIDTH, 1])\n",
    "my_labels = []\n",
    "img_df = pd.DataFrame(columns=['Pixels'])\n",
    "\n",
    "\n",
    "for i in range(len(label_dict)):\n",
    "    img = cv2.imread(label_dict[i]+'.png')\n",
    "    img = cv2.cvtColor(img, cv2.COLOR_BGR2GRAY)\n",
    "    img = cv2.resize(img, (WIDTH, WIDTH))\n",
    "    img = img.reshape(1,-1)\n",
    "    img_df = img_df.append({'Pixels': img}, ignore_index=True)\n",
    "    \n",
    "\n",
    "    \n",
    "    #img = StandardScaler().fit_transform(np.float32(img))\n",
    "    #img = img.reshape(WIDTH, WIDTH, 1)\n",
    "    #my_img[i,:,:,:] = img\n",
    "    #my_labels.append(i)\n",
    "img_df['Pixels'] = img_df['Pixels'] / 255.0\n",
    "my_img = np.vstack(img_df['Pixels']).reshape(-1, WIDTH, WIDTH, 1)    \n",
    "plt.imshow(my_img[3,:,:,0]); plt.show()"
   ]
  },
  {
   "cell_type": "markdown",
   "metadata": {},
   "source": [
    "### 預測結果"
   ]
  },
  {
   "cell_type": "code",
   "execution_count": 17,
   "metadata": {},
   "outputs": [
    {
     "name": "stdout",
     "output_type": "stream",
     "text": [
      "INFO:tensorflow:Restoring parameters from /tmp/model.ckpt\n",
      "Model restored.\n",
      "[[99.94 0.00 0.00 0.00 0.06 0.00 0.00]\n",
      " [99.93 0.07 0.00 0.00 0.00 0.00 0.00]\n",
      " [0.00 0.00 100.00 0.00 0.00 0.00 0.00]\n",
      " [100.00 0.00 0.00 0.00 0.00 0.00 0.00]\n",
      " [100.00 0.00 0.00 0.00 0.00 0.00 0.00]\n",
      " [0.00 0.00 32.70 0.00 0.00 67.30 0.00]\n",
      " [99.99 0.01 0.00 0.00 0.00 0.00 0.00]]\n",
      "[0 0 2 0 0 5 0]\n"
     ]
    }
   ],
   "source": [
    "float_formatter = lambda x: \"%.2f\" % x\n",
    "np.set_printoptions(formatter={'float_kind':float_formatter})\n",
    "\n",
    "saver = tf.train.Saver()\n",
    "with tf.Session() as sess:\n",
    "    # Restore variables from disk.\n",
    "    saver.restore(sess, \"/tmp/model.ckpt\")\n",
    "    print(\"Model restored.\")\n",
    "    my_preds = sess.run(tf_pred, feed_dict={tf_data:my_img})\n",
    "    my_pred = np.argmax(my_preds, axis=1)   # 取最大值\n",
    "    print(100*my_preds)\n",
    "    print(my_pred)"
   ]
  },
  {
   "cell_type": "code",
   "execution_count": 18,
   "metadata": {
    "collapsed": true
   },
   "outputs": [],
   "source": [
    "def plot_images_labels_prediction(images, labels, prediction, num=7):\n",
    "    for idx in range(num):\n",
    "        ax = plt.subplot(2, 4, 1+idx)\n",
    "        ax.imshow(images[idx,:,:,0])\n",
    "        \n",
    "        title = str(idx)+','+label_dict[idx]\n",
    "        title += '=>'+label_dict[prediction[idx]]\n",
    "        \n",
    "        ax.set_title(title, fontsize=8)\n",
    "        ax.set_xticks([]);ax.set_yticks([])\n",
    "    plt.show()"
   ]
  },
  {
   "cell_type": "code",
   "execution_count": 19,
   "metadata": {},
   "outputs": [
    {
     "data": {
      "image/png": "[encoded data removed]",
      "text/plain": [
       "<matplotlib.figure.Figure at 0x195842fcc50>"
      ]
     },
     "metadata": {},
     "output_type": "display_data"
    }
   ],
   "source": [
    "plot_images_labels_prediction(my_img, my_labels, my_pred, 7)"
   ]
  },
  {
   "cell_type": "code",
   "execution_count": 20,
   "metadata": {},
   "outputs": [
    {
     "data": {
      "text/plain": [
       "<matplotlib.axes._subplots.AxesSubplot at 0x19584a4e908>"
      ]
     },
     "execution_count": 20,
     "metadata": {},
     "output_type": "execute_result"
    },
    {
     "data": {
      "image/png": "[encoded data removed]",
      "text/plain": [
       "<matplotlib.figure.Figure at 0x195847f2710>"
      ]
     },
     "metadata": {},
     "output_type": "display_data"
    }
   ],
   "source": [
    "import seaborn as sns\n",
    "sns.countplot(train_set['Emotion'])"
   ]
  },
  {
   "cell_type": "code",
   "execution_count": null,
   "metadata": {
    "collapsed": true
   },
   "outputs": [],
   "source": []
  }
 ],
 "metadata": {
  "kernelspec": {
   "display_name": "Python 3",
   "language": "python",
   "name": "python3"
  },
  "language_info": {
   "codemirror_mode": {
    "name": "ipython",
    "version": 3
   },
   "file_extension": ".py",
   "mimetype": "text/x-python",
   "name": "python",
   "nbconvert_exporter": "python",
   "pygments_lexer": "ipython3",
   "version": "3.6.1"
  }
 },
 "nbformat": 4,
 "nbformat_minor": 2
}
